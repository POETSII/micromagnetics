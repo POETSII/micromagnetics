{
 "cells": [
  {
   "cell_type": "markdown",
   "metadata": {},
   "source": [
    "## POETS Micromagnetic Simulation Generator"
   ]
  },
  {
   "cell_type": "code",
   "execution_count": null,
   "metadata": {},
   "outputs": [],
   "source": [
    "from ipywidgets import interact_manual, IntSlider, Text, Button\n",
    "from IPython.display import display"
   ]
  },
  {
   "cell_type": "code",
   "execution_count": null,
   "metadata": {},
   "outputs": [],
   "source": [
    "import micromagnetics_notebook_utils as mnu"
   ]
  },
  {
   "cell_type": "code",
   "execution_count": null,
   "metadata": {},
   "outputs": [],
   "source": [
    "interact_manual.opts['manual_name'] = 'Generate'\n",
    "interact_manual(mnu.generate,\n",
    "                x0Max=IntSlider(min=1, max=1025, step=1, value=5,\n",
    "                                description=\"x0 Points\"),\n",
    "                x1Max=IntSlider(min=1, max=1025, step=1, value=5,\n",
    "                                description=\"x1 Points\"),\n",
    "                outPath=Text(value=\"micromagnetic_simulation.xml\",\n",
    "                             description=\"Output file\"))\n"
   ]
  },
  {
   "cell_type": "code",
   "execution_count": null,
   "metadata": {},
   "outputs": [],
   "source": [
    "buttons = []\n",
    "buttons.append(Button(description=\"Deploy\"))\n",
    "buttons[-1].on_click(lambda x: mnu.deploy())\n",
    "buttons.append(Button(description=\"Run\"))\n",
    "buttons[-1].on_click(lambda x: mnu.run())\n",
    "buttons.append(Button(description=\"Exfiltrate\"))\n",
    "buttons[-1].on_click(lambda x: mnu.exfiltrate())\n",
    "buttons.append(Button(description=\"Visualise\"))\n",
    "buttons[-1].on_click(lambda x: mnu.visualise_results_3d())\n",
    "\n",
    "for button in buttons:\n",
    "    display(button)"
   ]
  }
 ],
 "metadata": {
  "kernelspec": {
   "display_name": "Python 3",
   "language": "python",
   "name": "python3"
  },
  "language_info": {
   "codemirror_mode": {
    "name": "ipython",
    "version": 3
   },
   "file_extension": ".py",
   "mimetype": "text/x-python",
   "name": "python",
   "nbconvert_exporter": "python",
   "pygments_lexer": "ipython3",
   "version": "3.6.9"
  }
 },
 "nbformat": 4,
 "nbformat_minor": 2
}
