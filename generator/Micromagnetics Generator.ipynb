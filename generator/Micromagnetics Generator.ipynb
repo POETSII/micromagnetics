{
 "cells": [
  {
   "cell_type": "markdown",
   "metadata": {},
   "source": [
    "## POETS Micromagnetic Simulation Generator"
   ]
  },
  {
   "cell_type": "code",
   "execution_count": null,
   "metadata": {},
   "outputs": [],
   "source": [
    "from ipywidgets import interact_manual, IntSlider, Text"
   ]
  },
  {
   "cell_type": "code",
   "execution_count": null,
   "metadata": {},
   "outputs": [],
   "source": [
    "from micromagnetics_notebook_utils import generate"
   ]
  },
  {
   "cell_type": "code",
   "execution_count": null,
   "metadata": {},
   "outputs": [],
   "source": [
    "interact_manual.opts['manual_name'] = 'Generate!'\n",
    "interact_manual(generate,\n",
    "                x0Max=IntSlider(min=1, max=1025, step=1, value=257,\n",
    "                                description=\"x0 Points\"),\n",
    "                x1Max=IntSlider(min=1, max=1025, step=1, value=257,\n",
    "                                description=\"x1 Points\"),\n",
    "                outPath=Text(value=\"micromagnetic_simulation.xml\",\n",
    "                             description=\"Output file\"))"
   ]
  }
 ],
 "metadata": {
  "kernelspec": {
   "display_name": "Python 3",
   "language": "python",
   "name": "python3"
  },
  "language_info": {
   "codemirror_mode": {
    "name": "ipython",
    "version": 3
   },
   "file_extension": ".py",
   "mimetype": "text/x-python",
   "name": "python",
   "nbconvert_exporter": "python",
   "pygments_lexer": "ipython3",
   "version": "3.7.2"
  }
 },
 "nbformat": 4,
 "nbformat_minor": 2
}
